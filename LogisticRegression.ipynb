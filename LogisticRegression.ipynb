{
  "nbformat": 4,
  "nbformat_minor": 0,
  "metadata": {
    "colab": {
      "private_outputs": true,
      "provenance": []
    },
    "kernelspec": {
      "name": "python3",
      "display_name": "Python 3"
    },
    "language_info": {
      "name": "python"
    },
    "accelerator": "GPU",
    "gpuClass": "standard"
  },
  "cells": [
    {
      "cell_type": "markdown",
      "source": [
        "# Prepare"
      ],
      "metadata": {
        "id": "t0_9hdBrbTF4"
      }
    },
    {
      "cell_type": "code",
      "source": [
        "!pip install pandas\n",
        "!pip install matplotlib\n",
        "!pip install numpy\n",
        "!pip install scikit-learn\n",
        "!pip install scipy\n",
        "!pip install pyodide-py"
      ],
      "metadata": {
        "id": "uQiwpUvPXAqZ"
      },
      "execution_count": null,
      "outputs": []
    },
    {
      "cell_type": "markdown",
      "source": [
        "Import needed libaries"
      ],
      "metadata": {
        "id": "_VDOdE-8Wv4u"
      }
    },
    {
      "cell_type": "code",
      "source": [
        "import pandas as pd\n",
        "import pylab as pl\n",
        "import numpy as np\n",
        "import scipy.optimize as opt\n",
        "from sklearn import preprocessing\n",
        "%matplotlib inline \n",
        "import matplotlib.pyplot as plt"
      ],
      "metadata": {
        "id": "4DQ9aMhYXlfj"
      },
      "execution_count": null,
      "outputs": []
    },
    {
      "cell_type": "markdown",
      "source": [
        "Download function"
      ],
      "metadata": {
        "id": "MBIzAttrXtYG"
      }
    },
    {
      "cell_type": "markdown",
      "source": [
        "Download the **Telco** churn data & load data from the CSV file"
      ],
      "metadata": {
        "id": "iE2R4IgbWJUV"
      }
    },
    {
      "cell_type": "code",
      "source": [
        "!wget -O ChurnData.csv \"https://cf-courses-data.s3.us.cloud-object-storage.appdomain.cloud/IBMDeveloperSkillsNetwork-ML0101EN-SkillsNetwork/labs/Module%203/data/ChurnData.csv\""
      ],
      "metadata": {
        "id": "r2ubFAwDWKdJ"
      },
      "execution_count": null,
      "outputs": []
    },
    {
      "cell_type": "code",
      "source": [
        "# Read\n",
        "churn_df = pd.read_csv(\"ChurnData.csv\")\n",
        "# Show\n",
        "churn_df.head()"
      ],
      "metadata": {
        "id": "CNrcIB-XY247"
      },
      "execution_count": null,
      "outputs": []
    },
    {
      "cell_type": "markdown",
      "source": [
        "Data pre-processing & selection"
      ],
      "metadata": {
        "id": "7zVE2hMyZbj6"
      }
    },
    {
      "cell_type": "code",
      "source": [
        "# Get necessary data\n",
        "churn_df = churn_df[['tenure', 'age', 'address', 'income', 'ed', 'employ', 'equip',   'callcard', 'wireless','churn']]\n",
        "# Convert churn col to integer\n",
        "churn_df['churn'] = churn_df['churn'].astype('int')\n",
        "churn_df.head()"
      ],
      "metadata": {
        "id": "dq_TAucbZaP4"
      },
      "execution_count": null,
      "outputs": []
    },
    {
      "cell_type": "markdown",
      "source": [
        "Dataset info"
      ],
      "metadata": {
        "id": "WnxwXOEUajIl"
      }
    },
    {
      "cell_type": "code",
      "source": [
        "print(f'Row: {churn_df.shape[0]} rows')\n",
        "print(f'Col: {churn_df.shape[1]} cols')"
      ],
      "metadata": {
        "id": "K2X65EIracfA"
      },
      "execution_count": null,
      "outputs": []
    },
    {
      "cell_type": "markdown",
      "source": [
        "# Define **X**, and **y** for dataset"
      ],
      "metadata": {
        "id": "GSGkSvFMbIO9"
      }
    },
    {
      "cell_type": "code",
      "source": [
        "# Split cols from data from an array X \n",
        "X = np.asarray(churn_df[['tenure', 'age', 'address', 'income', 'ed', 'employ', 'equip']])\n",
        "# Split col 'Churn' to form y\n",
        "y = np.asarray(churn_df['churn'])"
      ],
      "metadata": {
        "id": "dNRoggODbFB_"
      },
      "execution_count": null,
      "outputs": []
    },
    {
      "cell_type": "markdown",
      "source": [
        "This is **important** step before train or doing sth else... Normalize the data"
      ],
      "metadata": {
        "id": "GfmncrjPb8WK"
      }
    },
    {
      "cell_type": "code",
      "source": [
        "from sklearn.model_selection import train_test_split\n",
        "X_train, X_test, y_train, y_test = train_test_split(X,y, test_size = 0.2 ,random_state=4)\n",
        "print ('Train set:', X_train.shape,  y_train.shape)\n",
        "print ('Test set:', X_test.shape,  y_test.shape)"
      ],
      "metadata": {
        "id": "DHcV6R12cIhX"
      },
      "execution_count": null,
      "outputs": []
    },
    {
      "cell_type": "markdown",
      "source": [
        "# Train/ Test"
      ],
      "metadata": {
        "id": "ll3cIsRRhz_X"
      }
    },
    {
      "cell_type": "markdown",
      "source": [
        "Modeling ( Logistic regression with scikit-learn )"
      ],
      "metadata": {
        "id": "qwUZQHzHiBGO"
      }
    },
    {
      "cell_type": "code",
      "source": [
        "from sklearn.linear_model import LogisticRegression\n",
        "from sklearn.metrics import confusion_matrix\n",
        "LR = LogisticRegression(C=0.01, solver='liblinear').fit(X_train,y_train)\n",
        "LR"
      ],
      "metadata": {
        "id": "3LCIKyA4h33g"
      },
      "execution_count": null,
      "outputs": []
    },
    {
      "cell_type": "code",
      "source": [
        "yhat = LR.predict(X_test)\n",
        "yhat"
      ],
      "metadata": {
        "id": "qvs3LBH8iheF"
      },
      "execution_count": null,
      "outputs": []
    },
    {
      "cell_type": "markdown",
      "source": [
        "**predict_proba**  returns estimates for all classes, ordered by the label of classes. So, the first column is the probability of class 0, P(Y=0|X), and second column is probability of class 1, P(Y=1|X):"
      ],
      "metadata": {
        "id": "MC79x0QAivUJ"
      }
    },
    {
      "cell_type": "code",
      "source": [
        "yhat_prob = LR.predict_proba(X_test)\n",
        "yhat_prob"
      ],
      "metadata": {
        "id": "RURS6PbViyn9"
      },
      "execution_count": null,
      "outputs": []
    },
    {
      "cell_type": "markdown",
      "source": [
        "# Evaluation"
      ],
      "metadata": {
        "id": "yWGOPpuujaGY"
      }
    },
    {
      "cell_type": "markdown",
      "source": [
        "1. Jaccard Index"
      ],
      "metadata": {
        "id": "ogoAiCrVjdQ6"
      }
    },
    {
      "cell_type": "code",
      "source": [
        "from sklearn.metrics import jaccard_score\n",
        "jaccard_score(y_test, yhat,pos_label=0)"
      ],
      "metadata": {
        "id": "vyM_RYefjcZZ"
      },
      "execution_count": null,
      "outputs": []
    },
    {
      "cell_type": "markdown",
      "source": [
        "2. Confusion matrix"
      ],
      "metadata": {
        "id": "jsNKBNkDjkw3"
      }
    },
    {
      "cell_type": "code",
      "source": [
        "from sklearn.metrics import classification_report, confusion_matrix\n",
        "import itertools\n",
        "def plot_confusion_matrix(cm, classes,\n",
        "                          normalize=False,\n",
        "                          title='Confusion matrix',\n",
        "                          cmap=plt.cm.Blues):\n",
        "    \"\"\"\n",
        "    This function prints and plots the confusion matrix.\n",
        "    Normalization can be applied by setting `normalize=True`.\n",
        "    \"\"\"\n",
        "    if normalize:\n",
        "        cm = cm.astype('float') / cm.sum(axis=1)[:, np.newaxis]\n",
        "        print(\"Normalized confusion matrix\")\n",
        "    else:\n",
        "        print('Confusion matrix, without normalization')\n",
        "\n",
        "    print(cm)\n",
        "\n",
        "    plt.imshow(cm, interpolation='nearest', cmap=cmap)\n",
        "    plt.title(title)\n",
        "    plt.colorbar()\n",
        "    tick_marks = np.arange(len(classes))\n",
        "    plt.xticks(tick_marks, classes, rotation=45)\n",
        "    plt.yticks(tick_marks, classes)\n",
        "\n",
        "    fmt = '.2f' if normalize else 'd'\n",
        "    thresh = cm.max() / 2.\n",
        "    for i, j in itertools.product(range(cm.shape[0]), range(cm.shape[1])):\n",
        "        plt.text(j, i, format(cm[i, j], fmt),\n",
        "                 horizontalalignment=\"center\",\n",
        "                 color=\"white\" if cm[i, j] > thresh else \"black\")\n",
        "\n",
        "    plt.tight_layout()\n",
        "    plt.ylabel('True label')\n",
        "    plt.xlabel('Predicted label')\n",
        "print(confusion_matrix(y_test, yhat, labels=[1,0]))"
      ],
      "metadata": {
        "id": "8Tz449iRjm3A"
      },
      "execution_count": null,
      "outputs": []
    },
    {
      "cell_type": "code",
      "source": [
        "# Compute confusion matrix\n",
        "cnf_matrix = confusion_matrix(y_test, yhat, labels=[1,0])\n",
        "np.set_printoptions(precision=2)\n",
        "\n",
        "\n",
        "# Plot non-normalized confusion matrix\n",
        "plt.figure()\n",
        "plot_confusion_matrix(cnf_matrix, classes=['churn=1','churn=0'],normalize= False,  title='Confusion matrix')"
      ],
      "metadata": {
        "id": "_1B08a9xj0k0"
      },
      "execution_count": null,
      "outputs": []
    },
    {
      "cell_type": "markdown",
      "source": [
        "Let's look at first row. The first row is for customers whose actual churn value in the test set is 1.\n",
        "As you can calculate, out of 40 customers, the churn value of 15 of them is 1.\n",
        "Out of these 15 cases, the classifier correctly predicted 6 of them as 1, and 9 of them as 0.\n",
        "\n",
        "This means, for 6 customers, the actual churn value was 1 in test set and classifier also correctly predicted those as 1. However, while the actual label of 9 customers was 1, the classifier predicted those as 0, which is not very good. We can consider it as the error of the model for first row.\n",
        "\n",
        "What about the customers with churn value 0? Lets look at the second row.\n",
        "It looks like  there were 25 customers whom their churn value were 0.\n",
        "\n",
        "The classifier correctly predicted 24 of them as 0, and one of them wrongly as 1. So, it has done a good job in predicting the customers with churn value 0. A good thing about the confusion matrix is that it shows the model’s ability to correctly predict or separate the classes.  In a specific case of the binary classifier, such as this example,  we can interpret these numbers as the count of true positives, false positives, true negatives, and false negatives.\n"
      ],
      "metadata": {
        "id": "qI52mgBZjyiJ"
      }
    },
    {
      "cell_type": "code",
      "source": [
        "print (classification_report(y_test, yhat))"
      ],
      "metadata": {
        "id": "QmDP8rmYjyBG"
      },
      "execution_count": null,
      "outputs": []
    },
    {
      "cell_type": "markdown",
      "source": [
        "Based on the count of each section, we can calculate precision and recall of each label:\n",
        "\n",
        "*   **Precision** is a measure of the accuracy provided that a class label has been predicted. It is defined by: precision = TP / (TP + FP)\n",
        "\n",
        "*   **Recall** is the true positive rate. It is defined as: Recall =  TP / (TP + FN)\n",
        "\n",
        "So, we can calculate the precision and recall of each class.\n",
        "\n",
        "**F1 score:**\n",
        "Now we are in the position to calculate the F1 scores for each label based on the precision and recall of that label.\n",
        "\n",
        "The F1 score is the harmonic average of the precision and recall, where an F1 score reaches its best value at 1 (perfect precision and recall) and worst at 0. It is a good way to show that a classifer has a good value for both recall and precision.\n",
        "\n",
        "Finally, we can tell the average accuracy for this classifier is the average of the F1-score for both labels, which is 0.61 in our case.\n"
      ],
      "metadata": {
        "id": "pK2VzttIlTLM"
      }
    },
    {
      "cell_type": "markdown",
      "source": [
        "3. Log loss"
      ],
      "metadata": {
        "id": "R9SidEs0llte"
      }
    },
    {
      "cell_type": "code",
      "source": [
        "from sklearn.metrics import log_loss\n",
        "log_loss(y_test, yhat_prob)"
      ],
      "metadata": {
        "id": "89b6xrxPlUM_"
      },
      "execution_count": null,
      "outputs": []
    },
    {
      "cell_type": "markdown",
      "source": [
        "# Run again logistic regression"
      ],
      "metadata": {
        "id": "BjFZwycalzAE"
      }
    },
    {
      "cell_type": "code",
      "source": [
        "LR2 = LogisticRegression(C=0.01, solver='sag').fit(X_train,y_train)\n",
        "yhat_prob2 = LR2.predict_proba(X_test)\n",
        "print (\"LogLoss: : %.2f\" % log_loss(y_test, yhat_prob2))"
      ],
      "metadata": {
        "id": "Q771vrFPlsWx"
      },
      "execution_count": null,
      "outputs": []
    },
    {
      "cell_type": "markdown",
      "source": [
        "#Author : Saeed Aghabozorgi"
      ],
      "metadata": {
        "id": "jx0fz5F8mHEx"
      }
    }
  ]
}